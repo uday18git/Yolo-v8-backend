{
 "cells": [
  {
   "cell_type": "code",
   "execution_count": 1,
   "metadata": {
    "collapsed": true,
    "ExecuteTime": {
     "end_time": "2023-12-19T14:19:19.806599300Z",
     "start_time": "2023-12-19T14:19:16.729887800Z"
    }
   },
   "outputs": [],
   "source": [
    "import cv2\n",
    "import numpy as np"
   ]
  },
  {
   "cell_type": "code",
   "execution_count": null,
   "outputs": [],
   "source": [
    "def highlight_differences(image1,image2):\n",
    "    gray1 = cv2.cvtColor(image1,cv2.COLOR_BGR2GRAY)\n",
    "    gray2 = cv2.cvtColor(image2,cv2.COLOR_BGR2GRAY)\n",
    "    diff = cv2.absdiff(gray1,gray2)\n",
    "    _,threshold = cv2.threshold(diff,30,255,cv2.THRESH_BINARY)\n",
    "    countours,_ = cv2.findCountours(threshold,cv2.RETR_EXTERNAL,cv2.CHAIN_APPROX_SIMPLE)\n",
    "    result = image1.copy()\n",
    "    cv2.drawCountours(result,countours,-1,(0,0,255),2)\n",
    "    return result\n",
    "\n",
    "image1 = cv2.imread('WhatsApp Image 2023-12-19 at 18.33.52_cdbfa95b.jpg')\n",
    "image2 = cv2.imread('Screenshot 2023-12-19 112946.png')\n",
    "cv2.imshow('Segmented Image 1',image1)\n",
    "cv2.imshow('Segmented Image 2',image2)\n",
    "cv2.waitKey(0)\n",
    "cv2.destroyAllWindows()\n",
    "\n",
    "result = highlight_differences(image1,image2)\n",
    "cv2.imshow('Differences Highlighted',result)\n",
    "cv2.waitKey(0)\n",
    "cv2.destroyAllWindows()\n"
   ],
   "metadata": {
    "collapsed": false,
    "is_executing": true,
    "ExecuteTime": {
     "start_time": "2023-12-19T14:31:10.271046900Z"
    }
   }
  },
  {
   "cell_type": "code",
   "execution_count": null,
   "outputs": [],
   "source": [],
   "metadata": {
    "collapsed": false,
    "is_executing": true
   }
  },
  {
   "cell_type": "code",
   "execution_count": null,
   "outputs": [],
   "source": [],
   "metadata": {
    "collapsed": false
   }
  }
 ],
 "metadata": {
  "kernelspec": {
   "display_name": "Python 3",
   "language": "python",
   "name": "python3"
  },
  "language_info": {
   "codemirror_mode": {
    "name": "ipython",
    "version": 2
   },
   "file_extension": ".py",
   "mimetype": "text/x-python",
   "name": "python",
   "nbconvert_exporter": "python",
   "pygments_lexer": "ipython2",
   "version": "2.7.6"
  }
 },
 "nbformat": 4,
 "nbformat_minor": 0
}
